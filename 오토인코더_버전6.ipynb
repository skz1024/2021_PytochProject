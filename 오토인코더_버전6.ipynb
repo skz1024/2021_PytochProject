{
  "nbformat": 4,
  "nbformat_minor": 0,
  "metadata": {
    "colab": {
      "name": "한 때 했었던... 프로젝트 오토인코더 버전 6 뷰어.ipynb",
      "provenance": [],
      "collapsed_sections": [],
      "toc_visible": true
    },
    "kernelspec": {
      "display_name": "Python 3",
      "name": "python3"
    },
    "language_info": {
      "name": "python"
    }
  },
  "cells": [
    {
      "cell_type": "markdown",
      "metadata": {
        "id": "HPAtikNfK-c0"
      },
      "source": [
        "version 5 - 2021/10/06  \n",
        "version 5.01 - 2021/10/08 - 오차 행렬 추가  \n",
        "version 6 - 2021/10/13 - 코드 리펙토링\n",
        " - 전처리 코드는 클래스 내부에 통합되었습니다.\n",
        " - 7-1에 다른 인코더 형태 또는 다른 데이터셋을 새로운 변수명과 클래스명을 추가하여 기존 변수의 변형 없이 사용할 수 있습니다.\n",
        " - 원래 이 소스는 2021년 청년인재 혁신성장 과정에서 조마다 프로젝트를 결정했는데 그 중 한개의 조에서 진행했던 프로젝트입니다."
      ]
    },
    {
      "cell_type": "markdown",
      "metadata": {
        "id": "7gZHIBAEOU5A"
      },
      "source": [
        "# 1-1. 라이브러리 불러오기"
      ]
    },
    {
      "cell_type": "code",
      "metadata": {
        "id": "OqCxawDMG4fu"
      },
      "source": [
        "import numpy as np\n",
        "import torch\n",
        "import torch.nn as nn\n",
        "import torch.optim as optim\n",
        "import torch.nn.init as init\n",
        "import torchvision.transforms as transforms\n",
        "from torch.utils.data import DataLoader, Dataset\n",
        "from torch.autograd import Variable\n",
        "import matplotlib.pyplot as plt\n",
        "%matplotlib inline\n",
        "import os\n",
        "import shutil\n",
        "import pandas as pd\n",
        "import torch.nn.functional as F"
      ],
      "execution_count": null,
      "outputs": []
    },
    {
      "cell_type": "markdown",
      "metadata": {
        "id": "UhrWLQ5SG6YD"
      },
      "source": [
        "# 2-1. 파일 불러오기 (2-1 또는 2-2 방식중 하나를 사용하세요.)"
      ]
    },
    {
      "cell_type": "code",
      "metadata": {
        "id": "VHgf457oEksy"
      },
      "source": [
        "# train_all.csv, vali_all.csv, test_all.csv 파일이 있을경우 이 방식을 사용하지 마시고 다른 방식을 사용하세요.\n",
        "# 이 방식은 코랩에 abnoraml, normal 폴더를 추가한 후\n",
        "# 해당 폴더에 맞게 abnormal, normal 데이터를 넣으시면 됩니다.\n",
        "# 업로드 함수를 사용하지 않는 이유는, 업로드 함수를 사용하면 업로드 시간이 매우 길기 때문입니다. (25개 파일 약 2분)\n",
        "# 대신에, 파일 업로드 기능을 직접 사용하면 업로드 하는 시간이 매우 짧아집니다. (25개파일 약 12초)\n",
        "\n",
        "# 파일 목록을 저장하는 변수입니다.\n",
        "abnormal_file_list = []\n",
        "normal_file_list = []\n",
        "\n",
        "abnormal_folder_name = 'abnormal'\n",
        "normal_folder_name = 'normal'\n",
        "\n",
        "# 폴더에 있는 파일들의 리스트를 저장합니다.\n",
        "for i in os.listdir(f'/content/{abnormal_folder_name}'):\n",
        "  if i.endswith(\".csv\"):\n",
        "    abnormal_file_list.append(i)\n",
        "\n",
        "for i in os.listdir(f'/content/{normal_folder_name}'):\n",
        "  if i.endswith(\".csv\"):\n",
        "    normal_file_list.append(i)\n",
        "\n",
        "# 이번엔 파일명을 통해 데이터를 불러옵니다.\n",
        "# dataframe_normal와 abnormal_dataframe에 첫번째 파일을 저장하여 컬럼수를 맞춰줍니다.\n",
        "normal_dataframe = pd.read_csv('./' + normal_folder_name + '/' + normal_file_list[0], encoding='cp949')\n",
        "abnormal_dataframe = pd.read_csv('./'+ abnormal_folder_name + '/' + abnormal_file_list[0], encoding='cp949')\n",
        "\n",
        "# 참고로, 파일 수를 list수를 반환해서 자동으로 만들어지도록 하였습니다.\n",
        "# 나머지 데이터를 추가해줍니다.\n",
        "for i in range(2, (len(normal_file_list)+1)):\n",
        "  normal_file = pd.read_csv(f'./normal/'+normal_file_list[i-1], encoding='cp949')\n",
        "  normal_dataframe = normal_dataframe.append(normal_file)\n",
        "\n",
        "for i in range(2, (len(abnormal_file_list)+1)):\n",
        "  abnormal_file = pd.read_csv(f'./abnormal/'+abnormal_file_list[i-1], encoding='cp949')\n",
        "  abnormal_dataframe  = abnormal_dataframe.append(abnormal_file)\n",
        "\n",
        "# 'PosCmd [mA]','PosFdb [mA]'데이터만 추출을 합니다.\n",
        "normal_value = normal_dataframe.loc[:,['PosCmd [mA]','PosFdb [mA]']]\n",
        "abnormal_value = abnormal_dataframe.loc[:,['PosCmd [mA]','PosFdb [mA]']]\n",
        "\n",
        "# 정상데이터에서 train과 validation데이터를 나눕니다.\n",
        "num = int(len(normal_value) / 10)\n",
        "normal_train = normal_value.iloc[:num*8]\n",
        "normal_vali = normal_value.iloc[num*8:]\n",
        "\n",
        "# 데이터는 확인을 위해 따로 저장해줍니다.\n",
        "normal_train.to_csv(\"./train_all.csv\", index = False)\n",
        "normal_vali.to_csv(\"./vali_all.csv\", index = False)\n",
        "abnormal_value.to_csv(\"./test_all.csv\", index = False)\n",
        "\n",
        "# 이제 train_data, validate_data, test_data 변수를 만들어서 값을 넣겠습니다.\n",
        "# 아까 만든 csv 파일을 이용하겠습니다.\n",
        "train_data = pd.read_csv('./train_all.csv')\n",
        "validate_data = pd.read_csv('./vali_all.csv')\n",
        "test_data = pd.read_csv('./test_all.csv')\n",
        "\n",
        "# 이 작업까지 완료되었을 경우 train_all.csv, vali_all.csv, test_all.csv 파일이 생성됩니다.\n",
        "# 따라서, 이제부터는 해당 csv파일을 사용해서 2-2 코드에 있는것을 사용해 간편하게 업로드 해서 사용할 수 있습니다."
      ],
      "execution_count": null,
      "outputs": []
    },
    {
      "cell_type": "markdown",
      "metadata": {
        "id": "8jjEJjMHK2Ua"
      },
      "source": [
        "# 2-2. 파일 불러오기"
      ]
    },
    {
      "cell_type": "code",
      "metadata": {
        "id": "TdopWfN5KOnZ"
      },
      "source": [
        "# train.csv, vali.csv, test.csv 파일이 있을경우, 이 코드를 사용하세요.\n",
        "train_data = pd.read_csv('./train_all.csv')\n",
        "validate_data = pd.read_csv('./vali_all.csv')\n",
        "test_data = pd.read_csv('./test_all.csv')\n",
        "\n",
        "# 코드 실행 중간에 train_data, validate_dat, test_data 의 구조 변형이 일어나기 때문에\n",
        "# file 변수를 임의로 추가했습니다.\n",
        "train_file = pd.read_csv('./train_all.csv')\n",
        "validate_file = pd.read_csv('./vali_all.csv')\n",
        "test_file = pd.read_csv('./test_all.csv')"
      ],
      "execution_count": null,
      "outputs": []
    },
    {
      "cell_type": "markdown",
      "metadata": {
        "id": "bSOM7upFFBHm"
      },
      "source": [
        "# 2-3. 파일 데이터의 그래프 출력"
      ]
    },
    {
      "cell_type": "code",
      "metadata": {
        "colab": {
          "base_uri": "https://localhost:8080/",
          "height": 1000
        },
        "id": "dD4zb3amNZIg",
        "outputId": "d067cc1b-c5b7-4fd7-8f1f-5a1fdc0e329a"
      },
      "source": [
        "# (이 소스는 2-2 에서 사용하는 변수를 활용합니다.)\n",
        "# 각 파일당 5000개의 데이터가 있습니다.\n",
        "# 그래서 그에 맞게 데이터들을 그래프로 출력하였습니다.\n",
        "\n",
        "# 그래프 출력량을 줄이기 위해 일부러 1개만 출력했습니다. \n",
        "# 더 많은 그래프를 출력하려면 for i in range(1) 를 주석처리하고\n",
        "# for i in rnage(int...) 부분을 주석해제하세요.\n",
        "\n",
        "def file_graph_output(target_data=train_data, tilte='train'):\n",
        "  \"\"\"\n",
        "  target_data: 입력할 데이터(train_data, validate_data, test_data 중 1개)\n",
        "  title: 그래프에 출력할 타이틀 이름\n",
        "  \"\"\"\n",
        "  # for i in range(int(len(target_data) / 5000)):\n",
        "  for i in range(1):\n",
        "    # 5000개 단위로 출력해야 하므로, 따로 인덱스를 저장하는 변수를 만들었습니다.\n",
        "    start_position = 5000 * i\n",
        "    end_position = 5000 * (i + 1)\n",
        "\n",
        "    # 그리고 각 변수에 데이터를 입력했습니다.\n",
        "    poscmd = target_data['PosCmd [mA]'][start_position:end_position]\n",
        "    posfdb = target_data['PosFdb [mA]'][start_position:end_position]\n",
        "\n",
        "    # 플롯 옵션 설정\n",
        "    plt.figure(figsize=(10,5))\n",
        "    plt.xlabel('data_count')\n",
        "    plt.ylabel('PosCmd [mA]')\n",
        "    plt.title('{0} {1}'.format(tilte, i))\n",
        "    plt.ylim([0,28])\n",
        "    # plt.plot(poscmd, label='PosCmd [mA]', color='blue')\n",
        "    # plt.plot(posfdb, label='PosFdb [mA]', color='red')\n",
        "    plt.plot(poscmd, label='PosCmd [mA]')\n",
        "    plt.plot(posfdb, label='PosFdb [mA]')\n",
        "    plt.legend()\n",
        "    plt.show()\n",
        "\n",
        "\n",
        "file_graph_output(train_data, 'train')\n",
        "file_graph_output(validate_data, 'validate')\n",
        "file_graph_output(test_data, 'test')\n"
      ],
      "execution_count": null,
      "outputs": [
        {
          "output_type": "display_data",
          "data": {
            "image/png": "[encoded data removed]",
            "text/plain": [
              "<Figure size 720x360 with 1 Axes>"
            ]
          },
          "metadata": {
            "needs_background": "light"
          }
        },
        {
          "output_type": "display_data",
          "data": {
            "image/png": "[encoded data removed]",
            "text/plain": [
              "<Figure size 720x360 with 1 Axes>"
            ]
          },
          "metadata": {
            "needs_background": "light"
          }
        },
        {
          "output_type": "display_data",
          "data": {
            "image/png": "[encoded data removed]",
            "text/plain": [
              "<Figure size 720x360 with 1 Axes>"
            ]
          },
          "metadata": {
            "needs_background": "light"
          }
        }
      ]
    },
    {
      "cell_type": "code",
      "metadata": {
        "id": "m0qKVqkYKpfq",
        "colab": {
          "base_uri": "https://localhost:8080/",
          "height": 262
        },
        "outputId": "3c2023e6-44d4-41f1-f2d2-acc0d5003683"
      },
      "source": [
        "# 이 코드는 2-1 코드를 사용해야 사용할 수 있는 코드입니다.\n",
        "# 현재는 사용하지 않습니다.\n",
        "\n",
        "# 불러온 데이터의 그래프를 출력합니다.\n",
        "print(\"정상그래프 입니다.\")\n",
        "for i in range(1, (len(normal_file_list)+1)):\n",
        "  file_normal = pd.read_csv(f'./normal/'+normal_file_list[i-1], encoding='cp949')\n",
        "  plt.figure(figsize=(10,5))\n",
        "  plt.xlabel('Time;Seq')\n",
        "  plt.ylabel('PosCmd [mA]')\n",
        "  plt.title(normal_file_list[i-1])\n",
        "  plt.ylim([0,28])\n",
        "  plt.plot(file_normal['PosCmd [mA]'], label='PosCmd [mA]')\n",
        "  plt.plot(file_normal['PosFdb [mA]'], label='PosFdb [mA]')\n",
        "  plt.legend()\n",
        "  plt.savefig(f'{normal_file_list[i-1]}.png')\n",
        "  plt.show()\n",
        "\n",
        "print(\"비정상 그래프 입니다.\")\n",
        "for i in range(1, (len(abnormal_file_list)+1)):\n",
        "  file_abnormal = pd.read_csv(f'./abnormal/'+abnormal_file_list[i-1], encoding='cp949')\n",
        "  plt.figure(figsize=(10,5))\n",
        "  plt.xlabel('Time;Seq')\n",
        "  plt.ylabel('PosCmd [mA]')\n",
        "  plt.title(abnormal_file_list[i-1])\n",
        "  plt.ylim([0,28])\n",
        "  plt.plot(file_abnormal['PosCmd [mA]'], label='PosCmd [mA]')\n",
        "  plt.plot(file_abnormal['PosFdb [mA]'], label='PosFdb [mA]')\n",
        "  plt.legend()\n",
        "  plt.savefig(f'./{abnormal_file_list[i-1]}.png')\n",
        "  plt.show()"
      ],
      "execution_count": null,
      "outputs": [
        {
          "output_type": "stream",
          "name": "stdout",
          "text": [
            "정상그래프 입니다.\n"
          ]
        },
        {
          "output_type": "error",
          "ename": "NameError",
          "evalue": "ignored",
          "traceback": [
            "\u001b[0;31m---------------------------------------------------------------------------\u001b[0m",
            "\u001b[0;31mNameError\u001b[0m                                 Traceback (most recent call last)",
            "\u001b[0;32m<ipython-input-3-df2a332e189d>\u001b[0m in \u001b[0;36m<module>\u001b[0;34m()\u001b[0m\n\u001b[1;32m      4\u001b[0m \u001b[0;31m# 불러온 데이터의 그래프를 출력합니다.\u001b[0m\u001b[0;34m\u001b[0m\u001b[0;34m\u001b[0m\u001b[0;34m\u001b[0m\u001b[0m\n\u001b[1;32m      5\u001b[0m \u001b[0mprint\u001b[0m\u001b[0;34m(\u001b[0m\u001b[0;34m\"정상그래프 입니다.\"\u001b[0m\u001b[0;34m)\u001b[0m\u001b[0;34m\u001b[0m\u001b[0;34m\u001b[0m\u001b[0m\n\u001b[0;32m----> 6\u001b[0;31m \u001b[0;32mfor\u001b[0m \u001b[0mi\u001b[0m \u001b[0;32min\u001b[0m \u001b[0mrange\u001b[0m\u001b[0;34m(\u001b[0m\u001b[0;36m1\u001b[0m\u001b[0;34m,\u001b[0m \u001b[0;34m(\u001b[0m\u001b[0mlen\u001b[0m\u001b[0;34m(\u001b[0m\u001b[0mnormal_file_list\u001b[0m\u001b[0;34m)\u001b[0m\u001b[0;34m+\u001b[0m\u001b[0;36m1\u001b[0m\u001b[0;34m)\u001b[0m\u001b[0;34m)\u001b[0m\u001b[0;34m:\u001b[0m\u001b[0;34m\u001b[0m\u001b[0;34m\u001b[0m\u001b[0m\n\u001b[0m\u001b[1;32m      7\u001b[0m   \u001b[0mfile_normal\u001b[0m \u001b[0;34m=\u001b[0m \u001b[0mpd\u001b[0m\u001b[0;34m.\u001b[0m\u001b[0mread_csv\u001b[0m\u001b[0;34m(\u001b[0m\u001b[0;34mf'./normal/'\u001b[0m\u001b[0;34m+\u001b[0m\u001b[0mnormal_file_list\u001b[0m\u001b[0;34m[\u001b[0m\u001b[0mi\u001b[0m\u001b[0;34m-\u001b[0m\u001b[0;36m1\u001b[0m\u001b[0;34m]\u001b[0m\u001b[0;34m,\u001b[0m \u001b[0mencoding\u001b[0m\u001b[0;34m=\u001b[0m\u001b[0;34m'cp949'\u001b[0m\u001b[0;34m)\u001b[0m\u001b[0;34m\u001b[0m\u001b[0;34m\u001b[0m\u001b[0m\n\u001b[1;32m      8\u001b[0m   \u001b[0mplt\u001b[0m\u001b[0;34m.\u001b[0m\u001b[0mfigure\u001b[0m\u001b[0;34m(\u001b[0m\u001b[0mfigsize\u001b[0m\u001b[0;34m=\u001b[0m\u001b[0;34m(\u001b[0m\u001b[0;36m10\u001b[0m\u001b[0;34m,\u001b[0m\u001b[0;36m5\u001b[0m\u001b[0;34m)\u001b[0m\u001b[0;34m)\u001b[0m\u001b[0;34m\u001b[0m\u001b[0;34m\u001b[0m\u001b[0m\n",
            "\u001b[0;31mNameError\u001b[0m: name 'normal_file_list' is not defined"
          ]
        }
      ]
    },
    {
      "cell_type": "markdown",
      "metadata": {
        "id": "mfg-r_fpLYC1"
      },
      "source": [
        "# 3-1. 데이터셋 생성, 데이터를 텐서로 변환, 행렬의 수정"
      ]
    },
    {
      "cell_type": "code",
      "metadata": {
        "id": "y6giq8zvHD-O"
      },
      "source": [
        "# 데이터를 텐서로 변환합니다. (클래스 내에 함수가 합쳐졌습니다.)\n",
        "# 코드 보존을 위해서 주석처리하겠습니다.\n",
        "# def tensortranspose(dataframe):\n",
        "\n",
        "#   #오버샘플링\n",
        "#   nam=len(dataframe)%(255*30)\n",
        "#   dataframe_over=dataframe.append(dataframe[:((255*30)-(nam))])\n",
        "\n",
        "#   #텐서로 변환해줍니다. \n",
        "#   tensor_transpose = torch.tensor(dataframe_over.values)\n",
        "\n",
        "#   #차원을 변경해줍니다.\n",
        "#   tensor_transpose_dim = tensor_transpose.view(-1,30,2).clone().detach()\n",
        "\n",
        "#   #type을 변경해줍니다.\n",
        "#   tensor_transpose_dim=((tensor_transpose_dim - 4) / 16).float()\n",
        "\n",
        "#   #변환된 값을 반환해줍니다.\n",
        "#   return tensor_transpose_dim\n",
        "\n",
        "# 데이터셋 클래스\n",
        "# 데이터셋을 생성하기 위해서 2-2의 코드가 필요합니다.\n",
        "class CustomDataSetDiffrent(Dataset):\n",
        "  def __init__(self, type='train'):\n",
        "    typelist = ['train', 'validate', 'test']\n",
        "\n",
        "    if (type in typelist):\n",
        "      self.type = type \n",
        "    else:\n",
        "      raise Exception('CustomDataSet의 type 에 넣을 수 있는 값은 train, validate, test 입니다.')\n",
        "\n",
        "    if self.type == 'train':\n",
        "      self.x_data = train_data\n",
        "    elif self.type == 'validate':\n",
        "      self.x_data = validate_data\n",
        "    elif self.type == 'test':\n",
        "      self.x_data = test_data\n",
        "\n",
        "    self.x_data = self.tensor_proprocess(self.x_data)\n",
        "\n",
        "  # tensortransport\n",
        "  def tensor_proprocess(self, df_target):\n",
        "    # 오버샘플링: 255 * 30 을 하고 나머지만큼 데이터프레임의 내용을 추가\n",
        "    # mod: 나머지\n",
        "    mod = len(df_target) % (255 * 30)\n",
        "    df_over = df_target.append(df_target[:(255 * 30) - (mod)])\n",
        "\n",
        "    #텐서로 변환해줍니다. \n",
        "    tensor_transpose = torch.tensor(df_over.values)\n",
        "\n",
        "    #차원을 변경해줍니다.\n",
        "    tensor_transpose_change = tensor_transpose.view(-1,30,2).clone().detach()\n",
        "\n",
        "    #type을 변경해줍니다.\n",
        "    tensor_transpose_change_float = ((tensor_transpose_change - 4) / 16).float()\n",
        "\n",
        "    #변환된 값을 반환해줍니다.\n",
        "    return tensor_transpose_change_float\n",
        "\n",
        "  def __len__ (self):\n",
        "    return len(self.x_data)\n",
        "\n",
        "  def __getitem__ (self, idx):\n",
        "    return self.x_data[idx]\n",
        "\n",
        "# 데이터셋을 생성합니다.\n",
        "train_dataset = CustomDataSetDiffrent(type='train')\n",
        "validate_dataset = CustomDataSetDiffrent(type='validate')\n",
        "test_dataset = CustomDataSetDiffrent(type='test')"
      ],
      "execution_count": null,
      "outputs": []
    },
    {
      "cell_type": "markdown",
      "metadata": {
        "id": "MeSbtaBsLGa8"
      },
      "source": [
        "# 3-2. 데이터로더 생성, 학습에 대한 옵션 설정(배치사이즈, 학습률)"
      ]
    },
    {
      "cell_type": "code",
      "metadata": {
        "id": "tHBOTKjXHD7d"
      },
      "source": [
        "batch_size = 255 # 배치 사이즈\n",
        "learning_rate = 0.01 # 학습률\n",
        "# epoch_count = 30 # 에폭 수: 이 변수는 학습할 때 정의합니다. 이 시점에서 선언하지 않습니다.\n",
        "# hidden_size = 30 # ?\n",
        "\n",
        "# 디바이스 설정(cpu인가 cuda(gpu)인가 구분)\n",
        "device = torch.device(\"cuda:0\" if torch.cuda.is_available() else \"cpu\")\n",
        "\n",
        "# 데이터로더를 생성합니다.\n",
        "train_loader = torch.utils.data.DataLoader(train_dataset, batch_size=batch_size, shuffle=False)\n",
        "validate_loader = torch.utils.data.DataLoader(validate_dataset, batch_size=batch_size, shuffle=False)\n",
        "test_loader = torch.utils.data.DataLoader(test_dataset, batch_size=batch_size, shuffle=False)"
      ],
      "execution_count": null,
      "outputs": []
    },
    {
      "cell_type": "markdown",
      "metadata": {
        "id": "OpQCHovvLhTM"
      },
      "source": [
        "#4-1. 인코더, 디코더 클래스, 손실함수 및 옵티마이저 설정"
      ]
    },
    {
      "cell_type": "code",
      "metadata": {
        "id": "nyfIp1JSHD2F"
      },
      "source": [
        "class MiraeAutoEncoder(nn.Module):\n",
        "  def __init__(self):\n",
        "    super().__init__()\n",
        "    # 원한다면... 여러분이 원하는 레이어 구조를 사용할 수 있습니다.\n",
        "    # 단 입력층과 출력층의 개수가 동일해야 하며, \n",
        "    # 행렬곱을 사용할 수 있어야 하고, 배열의 형태가 동일해야 합니다.\n",
        "\n",
        "    # 인코더는 순차 레이어로 표현했습니다.\n",
        "    # Flatten -> 60 -> 30 -> 15 -> 8\n",
        "    self.encoder = nn.Sequential(\n",
        "      nn.Flatten(),\n",
        "      nn.Linear(60, 30),\n",
        "      nn.Linear(30, 15),\n",
        "      nn.Linear(15, 8)\n",
        "    )\n",
        "    \n",
        "    # 디코더는 인코딩의 반대 과정을 거칩니다.\n",
        "    # 8 -> 15 -> 30 -> 60 -> Sigmoid\n",
        "    self.decoder = nn.Sequential(\n",
        "      nn.Linear(8, 15),\n",
        "      nn.Linear(15, 30),\n",
        "      nn.Linear(30, 60),\n",
        "      nn.Sigmoid(),\n",
        "    )\n",
        "\n",
        "  def forward(self, x):\n",
        "    x = torch.tensor(x) # 이것은 x 값을 텐서로 변환하기 위한 함수입니다.\n",
        "    x = x.float() # mse 계산에는 float 값을 사용해야 하기 때문에 float으로 강제로 형변환 합니다.\n",
        "    encodeData = self.encoder(x) # x 값을 인코딩 합니다.\n",
        "    decodeData = self.decoder(encodeData) # 인코드데이터를 디코딩합니다.\n",
        "    decodeData = decodeData.reshape(255, 30, 2) # 배열을 원래 형태로 복원합니다.\n",
        "    return decodeData # 디코딩한 결과를 리턴합니다.\n",
        "\n",
        "mirae_auto_encoder = MiraeAutoEncoder()\n",
        "\n",
        "# 손실 함수와 옵티마이저를 설정합니다.\n",
        "loss_function = nn.MSELoss()\n",
        "optimizer = torch.optim.Adam(mirae_auto_encoder.parameters(), 0.001)"
      ],
      "execution_count": null,
      "outputs": []
    },
    {
      "cell_type": "code",
      "metadata": {
        "colab": {
          "base_uri": "https://localhost:8080/"
        },
        "id": "S1kvJYRpHDym",
        "outputId": "16169b1d-e2ed-4bb0-935f-53da88ec9b72"
      },
      "source": [
        "# 오토인코더의 구조를 출력합니다.\n",
        "print(mirae_auto_encoder)"
      ],
      "execution_count": null,
      "outputs": [
        {
          "output_type": "stream",
          "name": "stdout",
          "text": [
            "MiraeAutoEncoder(\n",
            "  (encoder): Sequential(\n",
            "    (0): Flatten(start_dim=1, end_dim=-1)\n",
            "    (1): Linear(in_features=60, out_features=30, bias=True)\n",
            "    (2): Linear(in_features=30, out_features=15, bias=True)\n",
            "    (3): Linear(in_features=15, out_features=8, bias=True)\n",
            "  )\n",
            "  (decoder): Sequential(\n",
            "    (0): Linear(in_features=8, out_features=15, bias=True)\n",
            "    (1): Linear(in_features=15, out_features=30, bias=True)\n",
            "    (2): Linear(in_features=30, out_features=60, bias=True)\n",
            "    (3): Sigmoid()\n",
            "  )\n",
            ")\n"
          ]
        }
      ]
    },
    {
      "cell_type": "markdown",
      "metadata": {
        "id": "V1N1gD8vP_SK"
      },
      "source": [
        "# 5-1. 오토인코더 학습"
      ]
    },
    {
      "cell_type": "code",
      "metadata": {
        "colab": {
          "base_uri": "https://localhost:8080/"
        },
        "id": "qyA8nIipG92O",
        "outputId": "909ff872-85f6-48e7-c367-b51766cd0902"
      },
      "source": [
        "# 에폭 수(여기서 정의하는 이유는 다른곳에 정의하면 헷갈려서 그런겁니다.)\n",
        "epoch_count = 38\n",
        "\n",
        "# 반복문을 통해, 학습을 시도합니다. 에폭 수만큼\n",
        "# 참고로 이 코드를 여러번 사용할 경우 학습량이 누적되어서 점점 과대적합이 될 수 있습니다.\n",
        "for i in range(epoch_count):\n",
        "  for j, data in enumerate(train_loader):\n",
        "    # 여기서 j는 index 이고, data는 데이터입니다.\n",
        "    train_result = mirae_auto_encoder(data) # 오토인코더로 학습한 데이터를 변수로 받아옵니다.\n",
        "    data = data.float() # mse loss를 계산할 때 float형을 사용해야 하기 때문에 강제로 float으로 형변환합니다.\n",
        "\n",
        "    # 한번 데이터를 처리할 때마다 해당하는 과정을 거칩니다.\n",
        "    optimizer.zero_grad() # 가중치 초기화\n",
        "    loss = loss_function(train_result, data) # 손실값 계산\n",
        "    loss.backward() # 모든 가중치 계산 및 미분\n",
        "    optimizer.step() # 저장된 매개변수 값을 이용해 매개변수 업데이트\n",
        "\n",
        "  # 1 에폭이 끝나면 손실 값을 출력합니다.\n",
        "  print(loss)\n",
        "\n",
        "# 모델 파일을 저장합니다.\n",
        "torch.save(mirae_auto_encoder, 'mirea_auto_encoder.pth')"
      ],
      "execution_count": null,
      "outputs": [
        {
          "output_type": "stream",
          "name": "stderr",
          "text": [
            "/usr/local/lib/python3.7/dist-packages/ipykernel_launcher.py:26: UserWarning: To copy construct from a tensor, it is recommended to use sourceTensor.clone().detach() or sourceTensor.clone().detach().requires_grad_(True), rather than torch.tensor(sourceTensor).\n"
          ]
        },
        {
          "output_type": "stream",
          "name": "stdout",
          "text": [
            "tensor(0.0029, grad_fn=<MseLossBackward>)\n",
            "tensor(0.0029, grad_fn=<MseLossBackward>)\n",
            "tensor(0.0029, grad_fn=<MseLossBackward>)\n",
            "tensor(0.0029, grad_fn=<MseLossBackward>)\n",
            "tensor(0.0029, grad_fn=<MseLossBackward>)\n",
            "tensor(0.0029, grad_fn=<MseLossBackward>)\n",
            "tensor(0.0029, grad_fn=<MseLossBackward>)\n",
            "tensor(0.0029, grad_fn=<MseLossBackward>)\n",
            "tensor(0.0029, grad_fn=<MseLossBackward>)\n",
            "tensor(0.0029, grad_fn=<MseLossBackward>)\n",
            "tensor(0.0029, grad_fn=<MseLossBackward>)\n",
            "tensor(0.0029, grad_fn=<MseLossBackward>)\n",
            "tensor(0.0028, grad_fn=<MseLossBackward>)\n",
            "tensor(0.0028, grad_fn=<MseLossBackward>)\n",
            "tensor(0.0028, grad_fn=<MseLossBackward>)\n",
            "tensor(0.0027, grad_fn=<MseLossBackward>)\n",
            "tensor(0.0027, grad_fn=<MseLossBackward>)\n",
            "tensor(0.0026, grad_fn=<MseLossBackward>)\n",
            "tensor(0.0024, grad_fn=<MseLossBackward>)\n",
            "tensor(0.0023, grad_fn=<MseLossBackward>)\n",
            "tensor(0.0021, grad_fn=<MseLossBackward>)\n",
            "tensor(0.0020, grad_fn=<MseLossBackward>)\n",
            "tensor(0.0020, grad_fn=<MseLossBackward>)\n",
            "tensor(0.0020, grad_fn=<MseLossBackward>)\n",
            "tensor(0.0019, grad_fn=<MseLossBackward>)\n",
            "tensor(0.0019, grad_fn=<MseLossBackward>)\n",
            "tensor(0.0019, grad_fn=<MseLossBackward>)\n",
            "tensor(0.0019, grad_fn=<MseLossBackward>)\n",
            "tensor(0.0019, grad_fn=<MseLossBackward>)\n",
            "tensor(0.0019, grad_fn=<MseLossBackward>)\n",
            "tensor(0.0019, grad_fn=<MseLossBackward>)\n",
            "tensor(0.0019, grad_fn=<MseLossBackward>)\n",
            "tensor(0.0019, grad_fn=<MseLossBackward>)\n",
            "tensor(0.0019, grad_fn=<MseLossBackward>)\n",
            "tensor(0.0019, grad_fn=<MseLossBackward>)\n",
            "tensor(0.0019, grad_fn=<MseLossBackward>)\n",
            "tensor(0.0019, grad_fn=<MseLossBackward>)\n",
            "tensor(0.0019, grad_fn=<MseLossBackward>)\n"
          ]
        }
      ]
    },
    {
      "cell_type": "markdown",
      "metadata": {
        "id": "g1wrd-GkYsLK"
      },
      "source": [
        "# 6-1. 데이터 복원 및 rec.error 값 계산, rec.error값 추가"
      ]
    },
    {
      "cell_type": "code",
      "metadata": {
        "id": "xoRE0sasY7BN"
      },
      "source": [
        "# 데이터를 좀 더 편하게 보기 위해, 원래 형태랑 비슷하게 복원합니다.\n",
        "# 데이터셋을 만드는 과정에서 전처리 할 때 배열이 일부 변형되면서 추가로 배열의 형태가 (255, 30, 2) 로 변형되었고,\n",
        "# 데이터로더를 만드는 과정에서 배치사이즈만큼 총 데이터가 나누어졌습니다.\n",
        "dataframe = pd.DataFrame(columns=['PosCmd [mA]', 'PosFdb [mA]', 'rec.error'])\n",
        "def data_recovery(data_loader=train_loader, autoencoder=False, denormalization=False):\n",
        "  \"\"\"\n",
        "  데이터셋을 원본 데이터 형태로 복원합니다.\n",
        "  데이터셋으로 만들어지는 과정에서 배열 구조가 손상되므로 모든 데이터가 되돌아오지 않습니다.\n",
        "  data_loader = 데이터로더(train_loader, validate_loader, test_loader 중 1개)\n",
        "  autoencoder = 오토인코더 작업을 할 것인가? True일경우 디코딩 된 결과를 얻어옵니다.\n",
        "  denormalization = 반정규화? True일경우 정규화되기 전의 값을 보여줍니다.\n",
        "  \"\"\"\n",
        "  # 원본형태의 데이터프레임\n",
        "  dataframe = pd.DataFrame(columns=['PosCmd [mA]', 'PosFdb [mA]', 'rec.error'], index=None)\n",
        "\n",
        "  for i, data in enumerate(data_loader):\n",
        "    loop_dataframe = pd.DataFrame(columns=['PosCmd [mA]', 'PosFdb [mA]', 'rec.error'])\n",
        "\n",
        "    # 오토인코더로 학습할것인지 확인\n",
        "    if(autoencoder):\n",
        "      getdata = mirae_auto_encoder(data)\n",
        "    else:\n",
        "      getdata = data\n",
        "    \n",
        "    # 배열을 원래 형태로 변경합니다.\n",
        "    getdata = getdata.reshape(-1, 2)\n",
        "    getdata = getdata.detach().numpy()\n",
        "\n",
        "    # 그리고 각 데이터프레임에 데이터를 삽입합니다.\n",
        "    loop_dataframe['PosCmd [mA]'] = getdata[:, 0]\n",
        "    loop_dataframe['PosFdb [mA]'] = getdata[:, 1]\n",
        "\n",
        "    # 데이터프레임에 새로운 데이터프레임의 내용을 추가합니다.\n",
        "    dataframe = dataframe.append(loop_dataframe, ignore_index=True, verify_integrity=True)\n",
        "\n",
        "  # 반정규화 옵션\n",
        "  if(denormalization):\n",
        "    dataframe = (dataframe * 16) + 4\n",
        "    dataframe = dataframe.round(2)\n",
        "\n",
        "  # poscmd와 posfdb의 차이값인 rec.error값을 계산합니다.\n",
        "  dataframe['rec.error'] = abs(dataframe['PosCmd [mA]'] - dataframe['PosFdb [mA]'])\n",
        "  return dataframe\n",
        "\n",
        "# 셀을 한번만 실행하기 위해 이 함수를 한 개의 셀에 넣었습니다.\n",
        "# rec.error 값만 추가할거면 이 함수를 추가하세요.\n",
        "def add_rec_error(target_dataframe):\n",
        "  \"\"\"\n",
        "  이 함수는 데이터가 있는 데이터프레임을 매개변수로 넣는다면\n",
        "  rec.error행이 추가된 새로운 데이터프레임을 리턴합니다.\n",
        "  \"\"\"\n",
        "  new_dataframe = pd.DataFrame(columns=['PosCmd [mA]', 'PosFdb [mA]', 'rec.error'])\n",
        "  new_dataframe['PosCmd [mA]'] = target_dataframe['PosCmd [mA]']\n",
        "  new_dataframe['PosFdb [mA]'] = target_dataframe['PosFdb [mA]']\n",
        "  new_dataframe['rec.error'] = abs(target_dataframe['PosCmd [mA]'] - target_dataframe['PosFdb [mA]'])\n",
        "  return new_dataframe"
      ],
      "execution_count": null,
      "outputs": []
    },
    {
      "cell_type": "markdown",
      "metadata": {
        "id": "J7P5Da93lSTw"
      },
      "source": [
        "# 6-2. 오차행렬 계산"
      ]
    },
    {
      "cell_type": "code",
      "metadata": {
        "colab": {
          "base_uri": "https://localhost:8080/"
        },
        "id": "IFnX8z1blUye",
        "outputId": "c327d36d-5934-43a0-e764-0c214574744a"
      },
      "source": [
        "# 오차행렬을 계산하고 객체를 리턴합니다.\n",
        "# 코드는 현희님의 것을 참고했습니다.\n",
        "# 변수 이름 충돌 문제가 있으므로, 함수 매개변수의 이름을 변경해주세요.\n",
        "# 오류 원인은 알 수 없으나, 함수 매개변수가 전역변수로 취급되고 이름 충돌이 발생하는것으로 보입니다.\n",
        "def confusion_matrix(df_nor, df_abn, threshold=0.25, view=False):\n",
        "  \"\"\"\n",
        "  오차행렬을 계산한 후 그에 대한 결과를 딕셔너리로 리턴합니다.\n",
        "  dataframe에는 'rec.error'행이 존재해야 합니다.\n",
        "  not define 오류가 발생하는경우, 매개변수 이름으로 된 전역변수를 생성하세요.\n",
        "  data_recovery 함수를 사용해주세요.\n",
        "  df_nor: 정상 값이 들어있는 데이터프레임(validate)을 넣어주세요.\n",
        "  df_abn: 비정상 값이 들어있는 데이터프레임(test)를 넣어주세요.\n",
        "  view: 행렬 값과 기타 정보를 print로 출력합니다.\n",
        "  \"\"\"\n",
        "         # 실제파일 : 임계값 >> 임계값이 높으면 abnormal입니다.\n",
        "  TP = 0 # abnromal > threshold >> 실제값이 abnormal인데 True(abnormal로 판단 정답)\n",
        "  TN = 0 # normal <= threshold >> 실제값이 normal인데 True(normal로 판단 정답)\n",
        "  FP = 0 # normal > threshold >> 실제값이 normal인데 False(abnormal로 판단해서 틀림) \n",
        "  FN = 0 # abnormal <= threshold >> 실제값이 abnormal인데 False(normal로 판단해서 틀림)\n",
        "\n",
        "  # 단순하게 계산하기 위해 데이터프레임에서 조건에 맞는 행 수만큼 바로 변수에 대입했습니다.\n",
        "  TP = len(df_abn[df_abn['rec.error'] > threshold])\n",
        "  TN = len(df_nor[df_nor['rec.error'] <= threshold])\n",
        "  FP = len(df_nor[df_nor['rec.error'] > threshold])\n",
        "  FN = len(df_abn[df_abn['rec.error'] <= threshold])\n",
        "\n",
        "  # 0 으로 나눗셈 되는 오류를 해결하기 위해 0 으로 나눌 수 없도록 했습니다.\n",
        "  if (TP + FP == 0): precision = 0 \n",
        "  else: precision = TP / (TP + FP) # 정밀도\n",
        "  if (TP + TN + FN + FP == 0): accuracy = 0\n",
        "  else: accuracy = (TN + TP) / (TP + TN + FN + FP) # 정확도\n",
        "  if (TP + FN == 0): recall = 0 \n",
        "  else: recall = TP / (TP + FN) # 재현률 = 민감도\n",
        "  if (FP + TN == 0): specificity = 0 \n",
        "  else: specificity = TN / (FP + TN) # 특이도\n",
        "  if (precision + recall == 0): f1score = 0 \n",
        "  else: f1score = 2 * (precision * recall) / (precision + recall) # f1스코어\n",
        "  FPR = 1 - specificity # False Positive rate(위양성): 1 - specificity\n",
        "  \n",
        "\n",
        "  if(view): # view 를 True로 하면 정보를 보여줍니다.\n",
        "    print('matrix information')\n",
        "    print(f'TP: {TP:5d} | FN: {FN:5d} | total(abnormal): {len(df_abn)}')\n",
        "    print(f'FP: {FP:5d} | TN: {TN:5d} | total(normal): {len(df_nor)}')\n",
        "    print(f\"accuracy(정확도):{accuracy}\")\n",
        "    print(f\"precision(정밀도):{precision}\")\n",
        "    print(f\"recall(재현율):{recall}\")\n",
        "    print(f\"specificity(특이도):{specificity}\")\n",
        "    print(f\"FPR(1-SP):{FPR}\")\n",
        "    print(f\"f1score:{f1score}\")\n",
        "\n",
        "  return {\n",
        "    'TP':TP, 'TN':TN, 'FP':FP, 'FN':FN,\n",
        "    'accuracy':accuracy,\n",
        "    'precision':precision,\n",
        "    'recall':recall,\n",
        "    'specificity':specificity,\n",
        "    'fpr':FPR,\n",
        "    'f1score':f1score,\n",
        "    'threshold':threshold\n",
        "  }\n",
        "\n",
        "# 함수를 사용할 수 없을경우, not defined 문제가 발생할경우\n",
        "# 다음 전역변수를 선언하세요. 이유는 알 수 없음. 하지만 이렇게 해야 오류가 사라집니다.\n",
        "x1 = data_recovery(validate_loader, autoencoder=False)\n",
        "x2 = data_recovery(test_loader, autoencoder=False)\n",
        "confusion_matrix(x1, x2, view=True)"
      ],
      "execution_count": null,
      "outputs": [
        {
          "output_type": "stream",
          "name": "stdout",
          "text": [
            "matrix information\n",
            "TP:  1618 | FN: 51932 | total(abnormal): 53550\n",
            "FP:  1904 | TN: 43996 | total(normal): 45900\n",
            "accuracy(정확도):0.4586626445449975\n",
            "precision(정밀도):0.4593980692788189\n",
            "recall(재현율):0.030214752567693744\n",
            "specificity(특이도):0.9585185185185185\n",
            "FPR(1-SP):0.04148148148148145\n",
            "f1score:0.05670030838239417\n"
          ]
        },
        {
          "output_type": "execute_result",
          "data": {
            "text/plain": [
              "{'FN': 51932,\n",
              " 'FP': 1904,\n",
              " 'TN': 43996,\n",
              " 'TP': 1618,\n",
              " 'accuracy': 0.4586626445449975,\n",
              " 'f1score': 0.05670030838239417,\n",
              " 'fpr': 0.04148148148148145,\n",
              " 'precision': 0.4593980692788189,\n",
              " 'recall': 0.030214752567693744,\n",
              " 'specificity': 0.9585185185185185,\n",
              " 'threshold': 0.25}"
            ]
          },
          "metadata": {},
          "execution_count": 18
        }
      ]
    },
    {
      "cell_type": "markdown",
      "metadata": {
        "id": "Oi2M8YEmmQDR"
      },
      "source": [
        "# 6-3. AUR/ROC 그래프"
      ]
    },
    {
      "cell_type": "code",
      "metadata": {
        "id": "oA8QIhyOt8JR"
      },
      "source": [
        "# auc, roc를 구하려면 rec.error 데이터가 필요해서 해당 열을 추가하는 함수를 사용했습니다.\n",
        "new_validate = data_recovery(validate_loader, False, False)\n",
        "new_test = data_recovery(validate_loader, False, False)"
      ],
      "execution_count": null,
      "outputs": []
    },
    {
      "cell_type": "code",
      "metadata": {
        "id": "8VcuINSwk4iy"
      },
      "source": [
        "# TPR(True Positive Rate), FPR(False Positive Rate)를 저장하는 값 배열을 선언합니다.\n",
        "tpr = []\n",
        "fpr = []\n",
        "\n",
        "# for문을 통해 임계값을 0부터 1까지 루프를 돌리면서 혼동행렬값을 계산해서 tpr, fpr값을 얻어냅니다.\n",
        "for i in range(0, 100):\n",
        "  threshold = i * 0.01\n",
        "  getdata = confusion_matrix(dataframe_normal=new_validate, dataframe_abnoraml=new_test, threshold=threshold)\n",
        "  tpr.append(getdata['recall'])\n",
        "  fpr.append(getdata['fpr'])\n",
        "  # break"
      ],
      "execution_count": null,
      "outputs": []
    },
    {
      "cell_type": "code",
      "metadata": {
        "colab": {
          "base_uri": "https://localhost:8080/",
          "height": 283
        },
        "id": "tfTRVX4XqylW",
        "outputId": "64d1bd7f-28f3-4c0b-c1bb-d7746143d446"
      },
      "source": [
        "plt.plot(tpr, fpr)"
      ],
      "execution_count": null,
      "outputs": [
        {
          "output_type": "execute_result",
          "data": {
            "text/plain": [
              "[<matplotlib.lines.Line2D at 0x7f0c3844b090>]"
            ]
          },
          "metadata": {},
          "execution_count": 32
        },
        {
          "output_type": "display_data",
          "data": {
            "image/png": "[encoded data removed]",
            "text/plain": [
              "<Figure size 432x288 with 1 Axes>"
            ]
          },
          "metadata": {
            "needs_background": "light"
          }
        }
      ]
    },
    {
      "cell_type": "markdown",
      "metadata": {
        "id": "ma3XGUEPRNOM"
      },
      "source": [
        "# 6-4. 값 그래프"
      ]
    },
    {
      "cell_type": "code",
      "metadata": {
        "colab": {
          "base_uri": "https://localhost:8080/",
          "height": 283
        },
        "id": "JkNixQXLRQYk",
        "outputId": "d29a626d-3a7e-4101-8f63-b6f186e571f2"
      },
      "source": [
        "plt.plot(decode_test['PosCmd [mA]'][:3000])\n",
        "plt.plot(test_data['PosCmd [mA]'][:3000])"
      ],
      "execution_count": null,
      "outputs": [
        {
          "output_type": "execute_result",
          "data": {
            "text/plain": [
              "[<matplotlib.lines.Line2D at 0x7f53c4a87fd0>]"
            ]
          },
          "metadata": {},
          "execution_count": 73
        },
        {
          "output_type": "display_data",
          "data": {
            "image/png": "[encoded data removed]",
            "text/plain": [
              "<Figure size 432x288 with 1 Axes>"
            ]
          },
          "metadata": {
            "needs_background": "light"
          }
        }
      ]
    },
    {
      "cell_type": "markdown",
      "metadata": {
        "id": "J6klAcXCLMhG"
      },
      "source": [
        "# 7-1. 다른 형태의 데이터셋 클래스와 인코더 클래스 테스트 - 주의: 변수명이 기존에 사용하는것과 서로 다릅니다."
      ]
    },
    {
      "cell_type": "code",
      "metadata": {
        "id": "LVRgrhjCLq6W"
      },
      "source": [
        "class CustomDataSetAlternative(Dataset):\n",
        "  def __init__(self, type='train'):\n",
        "    typelist = ['train', 'validate', 'test']\n",
        "\n",
        "    if (type in typelist):\n",
        "      self.type = type \n",
        "    else:\n",
        "      raise Exception('CustomDataSet의 type 에 넣을 수 있는 값은 train, validate, test 입니다.')\n",
        "\n",
        "    if self.type == 'train':\n",
        "      self.x_data = train_data\n",
        "    elif self.type == 'validate':\n",
        "      self.x_data = validate_data\n",
        "    elif self.type == 'test':\n",
        "      self.x_data = test_data\n",
        "\n",
        "    self.x_data = self.tensor_proprocess(self.x_data)\n",
        "\n",
        "  # tensortransport\n",
        "  def tensor_proprocess(self, df_target):\n",
        "    # 오버샘플링: 255 * 30 을 하고 나머지만큼 데이터프레임의 내용을 추가\n",
        "    # mod: 나머지\n",
        "    mod = len(df_target) % (255 * 30)\n",
        "    df_over = df_target.append(df_target[:(255 * 30) - (mod)])\n",
        "\n",
        "    #텐서로 변환해줍니다. \n",
        "    tensor_transpose = torch.tensor(df_over.values)\n",
        "\n",
        "    #차원을 변경해줍니다.\n",
        "    tensor_transpose_change = tensor_transpose.view(-1,30,2).clone().detach()\n",
        "\n",
        "    #type을 변경해줍니다.\n",
        "    tensor_transpose_change_float = ((tensor_transpose_change - 4) / 16).float()\n",
        "\n",
        "    #변환된 값을 반환해줍니다.\n",
        "    return tensor_transpose_change_float\n",
        "\n",
        "  def __len__ (self):\n",
        "    return len(self.x_data)\n",
        "\n",
        "  def __getitem__ (self, idx):\n",
        "    return self.x_data[idx]\n",
        "\n",
        "# 데이터셋을 생성합니다.\n",
        "train_alter = CustomDataSetAlternative(type='train')\n",
        "validate_alter = CustomDataSetAlternative(type='validate')\n",
        "test_alter = CustomDataSetAlternative(type='test')"
      ],
      "execution_count": null,
      "outputs": []
    },
    {
      "cell_type": "code",
      "metadata": {
        "id": "B_ncNW5UMy8B"
      },
      "source": [
        "batch_size = 5000 # 배치 사이즈\n",
        "learning_rate = 0.01 # 학습률\n",
        "# epoch_count = 30 # 에폭 수: 이 변수는 학습할 때 정의합니다. 이 시점에서 선언하지 않습니다.\n",
        "# hidden_size = 30 # ?\n",
        "\n",
        "# 디바이스 설정(cpu인가 cuda(gpu)인가 구분)\n",
        "device = torch.device(\"cuda:0\" if torch.cuda.is_available() else \"cpu\")\n",
        "\n",
        "# 데이터로더를 생성합니다.\n",
        "train_alter_loader = torch.utils.data.DataLoader(train_alter, batch_size=batch_size, shuffle=False)\n",
        "validate_alter_loader = torch.utils.data.DataLoader(validate_alter, batch_size=batch_size, shuffle=False)\n",
        "test_alter_loader = torch.utils.data.DataLoader(test_alter, batch_size=batch_size, shuffle=False)"
      ],
      "execution_count": null,
      "outputs": []
    },
    {
      "cell_type": "code",
      "metadata": {
        "id": "j5AyP5JEPRRt"
      },
      "source": [
        "class MiraeAutoEncoderAlternative(nn.Module):\n",
        "  def __init__(self):\n",
        "    super().__init__()\n",
        "    # 원한다면... 여러분이 원하는 레이어 구조를 사용할 수 있습니다.\n",
        "    # 단 입력층과 출력층의 개수가 동일해야 하며, 행렬곱을 사용할 수 있어야 하고, 배열의 형태가 동일해야 합니다.\n",
        "\n",
        "    # 인코딩과 디코딩\n",
        "    self.encoder = nn.Sequential(\n",
        "      nn.Flatten(),\n",
        "      nn.Linear(2, 1),\n",
        "    )\n",
        "    self.decoder = nn.Sequential(\n",
        "      nn.Linear(1, 2),\n",
        "      # nn.Sigmoid(),\n",
        "    )\n",
        "\n",
        "  def forward(self, x):\n",
        "    x = torch.tensor(x) # 이것은 x 값을 텐서로 변환하기 위한 함수입니다.\n",
        "    x = x.float() # mse 계산에는 float 값을 사용해야 하기 때문에 float으로 강제로 형변환 합니다.\n",
        "    encodeData = self.encoder(x) # x 값을 인코딩 합니다.\n",
        "    decodeData = self.decoder(encodeData) # 인코드데이터를 디코딩합니다.\n",
        "    # decodeData = decodeData.reshape(255, 30, 2) # 배열을 원래 형태로 복원합니다.\n",
        "    return decodeData # 디코딩한 결과를 리턴합니다.\n",
        "\n",
        "mirae_auto_encoder_alter = MiraeAutoEncoderAlternative()\n",
        "\n",
        "# 손실 함수와 옵티마이저를 설정합니다.\n",
        "loss_function = nn.MSELoss()\n",
        "optimizer = torch.optim.Adam(mirae_auto_encoder.parameters(), 0.001)"
      ],
      "execution_count": null,
      "outputs": []
    },
    {
      "cell_type": "code",
      "metadata": {
        "id": "ldRcAIpaNKyw"
      },
      "source": [
        "# 에폭 수(여기서 정의하는 이유는 다른곳에 정의하면 헷갈려서 그런겁니다.)\n",
        "epoch_count = 30\n",
        "\n",
        "# 반복문을 통해, 학습을 시도합니다. 에폭 수만큼\n",
        "# 참고로 이 코드를 여러번 사용할 경우 학습량이 누적되어서 점점 과대적합이 될 수 있습니다.\n",
        "for i in range(epoch_count):\n",
        "  for j, data in enumerate(train_loader):\n",
        "    # 여기서 j는 index 이고, data는 데이터입니다.\n",
        "    train_result = mirae_auto_encoder(data) # 오토인코더로 학습한 데이터를 변수로 받아옵니다.\n",
        "    data = data.float() # mse loss를 계산할 때 float형을 사용해야 하기 때문에 강제로 float으로 형변환합니다.\n",
        "\n",
        "    # 한번 데이터를 처리할 때마다 해당하는 과정을 거칩니다.\n",
        "    optimizer.zero_grad() # 가중치 초기화\n",
        "    loss = loss_function(train_result, data) # 손실값 계산\n",
        "    loss.backward() # 모든 가중치 계산 및 미분\n",
        "    optimizer.step() # 저장된 매개변수 값을 이용해 매개변수 업데이트\n",
        "\n",
        "  # 1 에폭이 끝나면 손실 값을 출력합니다.\n",
        "  print(loss)\n",
        "\n",
        "# 모델 파일을 저장합니다.\n",
        "torch.save(mirae_auto_encoder, 'mirea_auto_encoder_alter.pth')"
      ],
      "execution_count": null,
      "outputs": []
    },
    {
      "cell_type": "markdown",
      "metadata": {
        "id": "t2B3S-v96wuc"
      },
      "source": [
        "# 7-2. 임시공간"
      ]
    },
    {
      "cell_type": "code",
      "metadata": {
        "id": "xi4iGSI19ZZD"
      },
      "source": [
        "err_train = train_data.copy()\n",
        "err_test = test_data.copy()\n",
        "\n",
        "err_train = (err_train - 4) / 16\n",
        "err_test = (err_test - 4) / 16\n",
        "\n",
        "err_train = add_rec_error(err_train)\n",
        "err_test = add_rec_error(err_test)"
      ],
      "execution_count": null,
      "outputs": []
    },
    {
      "cell_type": "code",
      "metadata": {
        "colab": {
          "base_uri": "https://localhost:8080/"
        },
        "id": "IRfzLBG5_IPm",
        "outputId": "b66dbee9-bb69-4a63-8bcf-ad06c7c2a5ea"
      },
      "source": [
        "err_train['rec.error'].mean()"
      ],
      "execution_count": null,
      "outputs": [
        {
          "output_type": "execute_result",
          "data": {
            "text/plain": [
              "0.044373750000011036"
            ]
          },
          "metadata": {},
          "execution_count": 61
        }
      ]
    },
    {
      "cell_type": "code",
      "metadata": {
        "colab": {
          "base_uri": "https://localhost:8080/"
        },
        "id": "ZSrICBgP_L-q",
        "outputId": "94071210-395c-4b72-f49c-71fcdb741300"
      },
      "source": [
        "err_test['rec.error'].mean()"
      ],
      "execution_count": null,
      "outputs": [
        {
          "output_type": "execute_result",
          "data": {
            "text/plain": [
              "0.04826499999999711"
            ]
          },
          "metadata": {},
          "execution_count": 62
        }
      ]
    },
    {
      "cell_type": "code",
      "metadata": {
        "colab": {
          "base_uri": "https://localhost:8080/"
        },
        "id": "YLH8ef9M_VOX",
        "outputId": "b2cb54ff-ed07-4e7f-8b96-be362b2ac1d4"
      },
      "source": [
        "confusion_matrix(err_train, err_test, 0.44, True)"
      ],
      "execution_count": null,
      "outputs": [
        {
          "output_type": "stream",
          "name": "stdout",
          "text": [
            "matrix information\n",
            "TP:   449 | FN: 49568 | total(abnormal): 53550\n",
            "FP:  1335 | TN: 158665 | total(normal): 160000\n",
            "accuracy(정확도):0.75762438278806\n",
            "precision(정밀도):0.25168161434977576\n",
            "recall(재현율):0.00897694783773517\n",
            "specificity(특이도):0.99165625\n",
            "FPR(1-SP):0.008343749999999983\n",
            "f1score:0.01733557267234223\n"
          ]
        },
        {
          "output_type": "execute_result",
          "data": {
            "text/plain": [
              "{'FN': 49568,\n",
              " 'FP': 1335,\n",
              " 'TN': 158665,\n",
              " 'TP': 449,\n",
              " 'accuracy': 0.75762438278806,\n",
              " 'f1score': 0.01733557267234223,\n",
              " 'fpr': 0.008343749999999983,\n",
              " 'precision': 0.25168161434977576,\n",
              " 'recall': 0.00897694783773517,\n",
              " 'specificity': 0.99165625,\n",
              " 'threshold': 0.44}"
            ]
          },
          "metadata": {},
          "execution_count": 71
        }
      ]
    },
    {
      "cell_type": "code",
      "metadata": {
        "colab": {
          "base_uri": "https://localhost:8080/"
        },
        "id": "wk-XAflcC-bG",
        "outputId": "fb626f37-7de8-4648-8420-9dfa5f8e7084"
      },
      "source": [
        "rec_validate_auto = data_recovery(train_loader, True)\n",
        "rec_validate = data_recovery(train_loader, False)\n",
        "rec_test_auto = data_recovery(test_loader, True)\n",
        "rec_test = data_recovery(test_loader, False)"
      ],
      "execution_count": null,
      "outputs": [
        {
          "output_type": "stream",
          "name": "stderr",
          "text": [
            "/usr/local/lib/python3.7/dist-packages/ipykernel_launcher.py:26: UserWarning: To copy construct from a tensor, it is recommended to use sourceTensor.clone().detach() or sourceTensor.clone().detach().requires_grad_(True), rather than torch.tensor(sourceTensor).\n"
          ]
        }
      ]
    },
    {
      "cell_type": "code",
      "metadata": {
        "colab": {
          "base_uri": "https://localhost:8080/"
        },
        "id": "ZaRJxfs7EEqN",
        "outputId": "5bc10efb-175a-4b92-fbce-64e7a6921f0a"
      },
      "source": [
        "print('rec_validate_auto mean_error:', rec_validate_auto['rec.error'].mean())\n",
        "print('rec_validate mean_error:', rec_validate['rec.error'].mean())\n",
        "print('rec_test_auto mean_error:', rec_test_auto['rec.error'].mean())\n",
        "print('rec_test mean_error:', rec_test['rec.error'].mean())"
      ],
      "execution_count": null,
      "outputs": [
        {
          "output_type": "stream",
          "name": "stdout",
          "text": [
            "rec_validate_auto mean_error: 0.04317265748977661\n",
            "rec_validate mean_error: 0.04436882212758064\n",
            "rec_test_auto mean_error: 0.028708361089229584\n",
            "rec_test mean_error: 0.0477769672870636\n"
          ]
        }
      ]
    },
    {
      "cell_type": "markdown",
      "metadata": {
        "id": "0JoiwJQizS4o"
      },
      "source": [
        "# 7-3. 임시공간, 7-1의 사본?"
      ]
    },
    {
      "cell_type": "code",
      "metadata": {
        "id": "O6QWo_l05D-V"
      },
      "source": [
        "class CustomDataSetNoPreprocess(Dataset):\n",
        "  def __init__(self, type='train'):\n",
        "    typelist = ['train', 'validate', 'test']\n",
        "\n",
        "    if (type in typelist):\n",
        "      self.type = type \n",
        "    else:\n",
        "      raise Exception('CustomDataSet의 type 에 넣을 수 있는 값은 train, validate, test 입니다.')\n",
        "\n",
        "    if self.type == 'train':\n",
        "      self.x_data = train_data\n",
        "    elif self.type == 'validate':\n",
        "      self.x_data = validate_data\n",
        "    elif self.type == 'test':\n",
        "      self.x_data = test_data\n",
        "\n",
        "  def __len__ (self):\n",
        "    return len(self.x_data)\n",
        "\n",
        "  def __getitem__ (self, idx):\n",
        "    return self.x_data[idx]\n",
        "\n",
        "# 데이터셋을 생성합니다.\n",
        "train_nopre = CustomDataSetNoPreprocess(type='train')\n",
        "validate_nopre = CustomDataSetNoPreprocess(type='validate')\n",
        "test_nopre = CustomDataSetNoPreprocess(type='test')"
      ],
      "execution_count": null,
      "outputs": []
    }
  ]
}